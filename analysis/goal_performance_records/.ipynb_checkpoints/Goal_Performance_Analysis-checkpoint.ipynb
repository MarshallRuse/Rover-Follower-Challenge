{
 "cells": [
  {
   "cell_type": "code",
   "execution_count": 12,
   "metadata": {},
   "outputs": [],
   "source": [
    "import numpy as np\n",
    "import pandas as pd\n",
    "import matplotlib.pyplot as plt\n",
    "import random"
   ]
  },
  {
   "cell_type": "code",
   "execution_count": 2,
   "metadata": {},
   "outputs": [],
   "source": [
    "recordCorrection = pd.DataFrame(columns=['Goal_Dist','Too_Close','Too_Far','Rec_Goal_Dist','Rec_Too_Close','Rec_Too_Far'])\n",
    "\n",
    "\n"
   ]
  },
  {
   "cell_type": "code",
   "execution_count": 3,
   "metadata": {},
   "outputs": [],
   "source": [
    "goaldist = [83.75,51.667,61.25,71.25,51.25,58.75,56.67,52.92,74.17]\n",
    "tooclose = [0,0,0,0,0,0,0,1.25,0]\n",
    "toofar = [16.25,48.33,38.75,28.75,48.75,41.25,43.33,45.83,25.83]\n",
    "recgoaldist = [93.90,57.91,67.48,83.14,64.33,67.70,66.22,59.28,84.88]\n",
    "rectooclose = [0.45,1.55,2.00,0.00,0.00,0.00,0.00,6.00,0.00]\n",
    "rectoofar = [5.64,40.53,30.95,16.40,35.44,32.07,33.56,34.68,14.67]\n",
    "\n",
    "\n",
    "recordCorrection['Goal_Dist'] = goaldist\n",
    "recordCorrection['Too_Close'] = tooclose\n",
    "recordCorrection['Too_Far'] = toofar\n",
    "recordCorrection['Rec_Goal_Dist'] = recgoaldist\n",
    "recordCorrection['Rec_Too_Close'] = rectooclose\n",
    "recordCorrection['Rec_Too_Far'] = rectoofar"
   ]
  },
  {
   "cell_type": "code",
   "execution_count": 4,
   "metadata": {},
   "outputs": [],
   "source": [
    "recordCorrection['goaldist_diff'] = recordCorrection['Goal_Dist'] - recordCorrection['Rec_Goal_Dist']"
   ]
  },
  {
   "cell_type": "code",
   "execution_count": 16,
   "metadata": {},
   "outputs": [
    {
     "data": {
      "text/plain": [
       "-0.09240333333333332"
      ]
     },
     "execution_count": 16,
     "metadata": {},
     "output_type": "execute_result"
    }
   ],
   "source": [
    "recCorrectMean = recordCorrection['goaldist_diff'].mean() / 100\n",
    "recCorrectMean"
   ]
  },
  {
   "cell_type": "code",
   "execution_count": 17,
   "metadata": {},
   "outputs": [
    {
     "data": {
      "text/plain": [
       "0.02531644919810043"
      ]
     },
     "execution_count": 17,
     "metadata": {},
     "output_type": "execute_result"
    }
   ],
   "source": [
    "recCorrectSTD = recordCorrection['goaldist_diff'].std() / 100\n",
    "recCorrectSTD"
   ]
  },
  {
   "cell_type": "code",
   "execution_count": 7,
   "metadata": {},
   "outputs": [],
   "source": [
    "goalPerfRec = pd.read_csv('parameter_tuning.csv')"
   ]
  },
  {
   "cell_type": "code",
   "execution_count": 8,
   "metadata": {},
   "outputs": [
    {
     "data": {
      "text/html": [
       "<div>\n",
       "<style scoped>\n",
       "    .dataframe tbody tr th:only-of-type {\n",
       "        vertical-align: middle;\n",
       "    }\n",
       "\n",
       "    .dataframe tbody tr th {\n",
       "        vertical-align: top;\n",
       "    }\n",
       "\n",
       "    .dataframe thead th {\n",
       "        text-align: right;\n",
       "    }\n",
       "</style>\n",
       "<table border=\"1\" class=\"dataframe\">\n",
       "  <thead>\n",
       "    <tr style=\"text-align: right;\">\n",
       "      <th></th>\n",
       "      <th>delta_time</th>\n",
       "      <th>proportional_gain</th>\n",
       "      <th>integral_gain</th>\n",
       "      <th>derivative_gain</th>\n",
       "      <th>logistic_function_mid</th>\n",
       "      <th>logistic_function_growth_rate</th>\n",
       "      <th>lin_val_err_deriv_coeff</th>\n",
       "      <th>follower_too_far_percent</th>\n",
       "      <th>follower_too_close_percent</th>\n",
       "      <th>follower_goal_dist_percent</th>\n",
       "    </tr>\n",
       "  </thead>\n",
       "  <tbody>\n",
       "    <tr>\n",
       "      <th>0</th>\n",
       "      <td>1.0</td>\n",
       "      <td>20</td>\n",
       "      <td>0.0</td>\n",
       "      <td>0.0</td>\n",
       "      <td>2</td>\n",
       "      <td>7</td>\n",
       "      <td>1</td>\n",
       "      <td>0.655172</td>\n",
       "      <td>0.017241</td>\n",
       "      <td>0.327586</td>\n",
       "    </tr>\n",
       "    <tr>\n",
       "      <th>1</th>\n",
       "      <td>1.0</td>\n",
       "      <td>20</td>\n",
       "      <td>0.0</td>\n",
       "      <td>0.0</td>\n",
       "      <td>2</td>\n",
       "      <td>7</td>\n",
       "      <td>1</td>\n",
       "      <td>0.741379</td>\n",
       "      <td>0.017241</td>\n",
       "      <td>0.241379</td>\n",
       "    </tr>\n",
       "    <tr>\n",
       "      <th>2</th>\n",
       "      <td>1.0</td>\n",
       "      <td>20</td>\n",
       "      <td>0.0</td>\n",
       "      <td>0.0</td>\n",
       "      <td>2</td>\n",
       "      <td>7</td>\n",
       "      <td>1</td>\n",
       "      <td>0.568966</td>\n",
       "      <td>0.068966</td>\n",
       "      <td>0.362069</td>\n",
       "    </tr>\n",
       "    <tr>\n",
       "      <th>3</th>\n",
       "      <td>1.0</td>\n",
       "      <td>20</td>\n",
       "      <td>0.0</td>\n",
       "      <td>0.0</td>\n",
       "      <td>2</td>\n",
       "      <td>7</td>\n",
       "      <td>1</td>\n",
       "      <td>0.672414</td>\n",
       "      <td>0.017241</td>\n",
       "      <td>0.310345</td>\n",
       "    </tr>\n",
       "    <tr>\n",
       "      <th>4</th>\n",
       "      <td>1.0</td>\n",
       "      <td>20</td>\n",
       "      <td>0.0</td>\n",
       "      <td>0.0</td>\n",
       "      <td>1</td>\n",
       "      <td>7</td>\n",
       "      <td>1</td>\n",
       "      <td>0.379310</td>\n",
       "      <td>0.155172</td>\n",
       "      <td>0.465517</td>\n",
       "    </tr>\n",
       "  </tbody>\n",
       "</table>\n",
       "</div>"
      ],
      "text/plain": [
       "   delta_time  proportional_gain  integral_gain  derivative_gain  \\\n",
       "0         1.0                 20            0.0              0.0   \n",
       "1         1.0                 20            0.0              0.0   \n",
       "2         1.0                 20            0.0              0.0   \n",
       "3         1.0                 20            0.0              0.0   \n",
       "4         1.0                 20            0.0              0.0   \n",
       "\n",
       "   logistic_function_mid  logistic_function_growth_rate  \\\n",
       "0                      2                              7   \n",
       "1                      2                              7   \n",
       "2                      2                              7   \n",
       "3                      2                              7   \n",
       "4                      1                              7   \n",
       "\n",
       "   lin_val_err_deriv_coeff  follower_too_far_percent  \\\n",
       "0                        1                  0.655172   \n",
       "1                        1                  0.741379   \n",
       "2                        1                  0.568966   \n",
       "3                        1                  0.672414   \n",
       "4                        1                  0.379310   \n",
       "\n",
       "   follower_too_close_percent  follower_goal_dist_percent  \n",
       "0                    0.017241                    0.327586  \n",
       "1                    0.017241                    0.241379  \n",
       "2                    0.068966                    0.362069  \n",
       "3                    0.017241                    0.310345  \n",
       "4                    0.155172                    0.465517  "
      ]
     },
     "execution_count": 8,
     "metadata": {},
     "output_type": "execute_result"
    }
   ],
   "source": [
    "goalPerfRec.head()"
   ]
  },
  {
   "cell_type": "code",
   "execution_count": 18,
   "metadata": {},
   "outputs": [],
   "source": [
    "goalPerfRec['corrected_goal_dist_percent'] = goalPerfRec['follower_goal_dist_percent'] + (recCorrectMean + random.uniform(-recCorrectSTD, recCorrectSTD))"
   ]
  },
  {
   "cell_type": "code",
   "execution_count": 19,
   "metadata": {},
   "outputs": [
    {
     "data": {
      "text/plain": [
       "0      0.224988\n",
       "1      0.138781\n",
       "2      0.259470\n",
       "3      0.207746\n",
       "4      0.362919\n",
       "5      0.414643\n",
       "6      0.569815\n",
       "7      0.414643\n",
       "8      0.242229\n",
       "9      0.621539\n",
       "10     0.345677\n",
       "11     0.328436\n",
       "12     0.224988\n",
       "13     0.434438\n",
       "14     0.128171\n",
       "15     0.035332\n",
       "16     0.328436\n",
       "17     0.242229\n",
       "18     0.552574\n",
       "19     0.328436\n",
       "20    -0.016392\n",
       "21     0.018091\n",
       "22     0.328436\n",
       "23     0.587056\n",
       "24     0.311194\n",
       "25     0.293953\n",
       "26     0.207746\n",
       "27     0.190505\n",
       "28     0.190505\n",
       "29     0.483608\n",
       "         ...   \n",
       "82     0.572234\n",
       "83     0.728862\n",
       "84     0.540742\n",
       "85    -0.102599\n",
       "86    -0.102599\n",
       "87     0.600104\n",
       "88    -0.102599\n",
       "89    -0.102599\n",
       "90     0.521275\n",
       "91     0.574461\n",
       "92     0.559594\n",
       "93     0.490242\n",
       "94     0.746160\n",
       "95     0.627681\n",
       "96     0.760415\n",
       "97     0.503324\n",
       "98     0.792138\n",
       "99     0.794598\n",
       "100    0.425179\n",
       "101    0.446467\n",
       "102    0.680856\n",
       "103    0.676203\n",
       "104    0.575642\n",
       "105    0.789355\n",
       "106    0.800850\n",
       "107    0.747976\n",
       "108    0.541897\n",
       "109    0.590950\n",
       "110    0.743378\n",
       "111    0.812344\n",
       "Name: corrected_goal_dist_percent, Length: 112, dtype: float64"
      ]
     },
     "execution_count": 19,
     "metadata": {},
     "output_type": "execute_result"
    }
   ],
   "source": [
    "goalPerfRec['corrected_goal_dist_percent']"
   ]
  },
  {
   "cell_type": "code",
   "execution_count": null,
   "metadata": {},
   "outputs": [],
   "source": []
  }
 ],
 "metadata": {
  "kernelspec": {
   "display_name": "Python 3",
   "language": "python",
   "name": "python3"
  },
  "language_info": {
   "codemirror_mode": {
    "name": "ipython",
    "version": 3
   },
   "file_extension": ".py",
   "mimetype": "text/x-python",
   "name": "python",
   "nbconvert_exporter": "python",
   "pygments_lexer": "ipython3",
   "version": "3.7.1"
  }
 },
 "nbformat": 4,
 "nbformat_minor": 2
}
