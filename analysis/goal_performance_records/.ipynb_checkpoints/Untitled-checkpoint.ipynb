{
 "cells": [
  {
   "cell_type": "code",
   "execution_count": 1,
   "metadata": {},
   "outputs": [],
   "source": [
    "import numpy as np\n",
    "import pandas as pd\n",
    "import matplotlib.pyplot as plt"
   ]
  },
  {
   "cell_type": "code",
   "execution_count": 2,
   "metadata": {},
   "outputs": [],
   "source": [
    "trackingCorrection = pd.DataFrame(columns=['Goal_Dist','Too_Close','Too_Far','Rec_Goal_Dist','Rec_Too_Close','Rec_Too_Far'])"
   ]
  },
  {
   "cell_type": "code",
   "execution_count": null,
   "metadata": {},
   "outputs": [],
   "source": [
    "goaldist = [83.75,51.667,61.25,71.25,51.25,58.75,56.67,52.92,74.17]\n",
    "tooclose = [0,0,0,0,0,0,0,1.25,0]\n",
    "toofar = [16.25,48.33,38.75,28.75,48.75,41.25,43.33,45.83,25.83]\n",
    "recgoaldist = [93.90,57.91,67.48,83.14,64.33,67.70,66.22,59.28,84.88]\n",
    "rectooclose = [0.45,1.55,2.00,0.00,0.00,0.00,0.00,6.00,0.00]\n",
    "rectoofar = [5.64,40.53,30.95,16.40,35.44,32.07,33.56,34.68,14.67]\n",
    "\n",
    "\n",
    "\n",
    "    \n",
    "\n",
    "\n",
    "\n"
   ]
  }
 ],
 "metadata": {
  "kernelspec": {
   "display_name": "Python 3",
   "language": "python",
   "name": "python3"
  },
  "language_info": {
   "codemirror_mode": {
    "name": "ipython",
    "version": 3
   },
   "file_extension": ".py",
   "mimetype": "text/x-python",
   "name": "python",
   "nbconvert_exporter": "python",
   "pygments_lexer": "ipython3",
   "version": "3.7.1"
  }
 },
 "nbformat": 4,
 "nbformat_minor": 2
}
