{
 "cells": [
  {
   "cell_type": "code",
   "execution_count": 14,
   "metadata": {},
   "outputs": [],
   "source": [
    "import numpy as np\n",
    "import pandas as pd\n",
    "import matplotlib.pyplot as plt\n",
    "import random"
   ]
  },
  {
   "cell_type": "code",
   "execution_count": 3,
   "metadata": {},
   "outputs": [],
   "source": [
    "recordCorrection = pd.DataFrame(columns=['Goal_Dist','Too_Close','Too_Far','Rec_Goal_Dist','Rec_Too_Close','Rec_Too_Far'])\n",
    "\n",
    "\n"
   ]
  },
  {
   "cell_type": "code",
   "execution_count": 5,
   "metadata": {},
   "outputs": [],
   "source": [
    "goaldist = [83.75,51.667,61.25,71.25,51.25,58.75,56.67,52.92,74.17]\n",
    "tooclose = [0,0,0,0,0,0,0,1.25,0]\n",
    "toofar = [16.25,48.33,38.75,28.75,48.75,41.25,43.33,45.83,25.83]\n",
    "recgoaldist = [93.90,57.91,67.48,83.14,64.33,67.70,66.22,59.28,84.88]\n",
    "rectooclose = [0.45,1.55,2.00,0.00,0.00,0.00,0.00,6.00,0.00]\n",
    "rectoofar = [5.64,40.53,30.95,16.40,35.44,32.07,33.56,34.68,14.67]\n",
    "\n",
    "\n",
    "recordCorrection['Goal_Dist'] = goaldist\n",
    "recordCorrection['Too_Close'] = tooclose\n",
    "recordCorrection['Too_Far'] = toofar\n",
    "recordCorrection['Rec_Goal_Dist'] = recgoaldist\n",
    "recordCorrection['Rec_Too_Close'] = rectooclose\n",
    "recordCorrection['Rec_Too_Far'] = rectoofar"
   ]
  },
  {
   "cell_type": "code",
   "execution_count": 7,
   "metadata": {},
   "outputs": [],
   "source": [
    "recordCorrection['goaldist_diff'] = recordCorrection['Goal_Dist'] - recordCorrection['Rec_Goal_Dist']"
   ]
  },
  {
   "cell_type": "code",
   "execution_count": 12,
   "metadata": {},
   "outputs": [],
   "source": [
    "recCorrectMean = recordCorrection['goaldist_diff'].mean()"
   ]
  },
  {
   "cell_type": "code",
   "execution_count": 13,
   "metadata": {},
   "outputs": [],
   "source": [
    "recCorrectSTD = recordCorrection['goaldist_diff'].std()"
   ]
  },
  {
   "cell_type": "code",
   "execution_count": 10,
   "metadata": {},
   "outputs": [],
   "source": [
    "goalPerfRec = pd.read_csv('parameter_tuning.csv')"
   ]
  },
  {
   "cell_type": "code",
   "execution_count": 23,
   "metadata": {},
   "outputs": [
    {
     "data": {
      "text/html": [
       "<div>\n",
       "<style scoped>\n",
       "    .dataframe tbody tr th:only-of-type {\n",
       "        vertical-align: middle;\n",
       "    }\n",
       "\n",
       "    .dataframe tbody tr th {\n",
       "        vertical-align: top;\n",
       "    }\n",
       "\n",
       "    .dataframe thead th {\n",
       "        text-align: right;\n",
       "    }\n",
       "</style>\n",
       "<table border=\"1\" class=\"dataframe\">\n",
       "  <thead>\n",
       "    <tr style=\"text-align: right;\">\n",
       "      <th></th>\n",
       "      <th>delta_time</th>\n",
       "      <th>proportional_gain</th>\n",
       "      <th>integral_gain</th>\n",
       "      <th>derivative_gain</th>\n",
       "      <th>logistic_function_mid</th>\n",
       "      <th>logistic_function_growth_rate</th>\n",
       "      <th>lin_val_err_deriv_coeff</th>\n",
       "      <th>follower_too_far_percent</th>\n",
       "      <th>follower_too_close_percent</th>\n",
       "      <th>follower_goal_dist_percent</th>\n",
       "      <th>Corrected_Goal_Dist</th>\n",
       "    </tr>\n",
       "  </thead>\n",
       "  <tbody>\n",
       "    <tr>\n",
       "      <th>90</th>\n",
       "      <td>0.1</td>\n",
       "      <td>30</td>\n",
       "      <td>0.5</td>\n",
       "      <td>0.1</td>\n",
       "      <td>1</td>\n",
       "      <td>10</td>\n",
       "      <td>2</td>\n",
       "      <td>0.371622</td>\n",
       "      <td>0.004505</td>\n",
       "      <td>0.623874</td>\n",
       "      <td>0.721010</td>\n",
       "    </tr>\n",
       "    <tr>\n",
       "      <th>91</th>\n",
       "      <td>0.1</td>\n",
       "      <td>30</td>\n",
       "      <td>0.5</td>\n",
       "      <td>0.1</td>\n",
       "      <td>1</td>\n",
       "      <td>10</td>\n",
       "      <td>2</td>\n",
       "      <td>0.320713</td>\n",
       "      <td>0.002227</td>\n",
       "      <td>0.677060</td>\n",
       "      <td>0.774196</td>\n",
       "    </tr>\n",
       "    <tr>\n",
       "      <th>92</th>\n",
       "      <td>0.1</td>\n",
       "      <td>30</td>\n",
       "      <td>0.5</td>\n",
       "      <td>0.1</td>\n",
       "      <td>1</td>\n",
       "      <td>10</td>\n",
       "      <td>2</td>\n",
       "      <td>0.335570</td>\n",
       "      <td>0.002237</td>\n",
       "      <td>0.662192</td>\n",
       "      <td>0.759329</td>\n",
       "    </tr>\n",
       "    <tr>\n",
       "      <th>93</th>\n",
       "      <td>0.1</td>\n",
       "      <td>30</td>\n",
       "      <td>0.5</td>\n",
       "      <td>0.1</td>\n",
       "      <td>1</td>\n",
       "      <td>10</td>\n",
       "      <td>3</td>\n",
       "      <td>0.346756</td>\n",
       "      <td>0.060403</td>\n",
       "      <td>0.592841</td>\n",
       "      <td>0.689977</td>\n",
       "    </tr>\n",
       "    <tr>\n",
       "      <th>94</th>\n",
       "      <td>0.1</td>\n",
       "      <td>30</td>\n",
       "      <td>0.5</td>\n",
       "      <td>0.1</td>\n",
       "      <td>1</td>\n",
       "      <td>10</td>\n",
       "      <td>3</td>\n",
       "      <td>0.146727</td>\n",
       "      <td>0.004515</td>\n",
       "      <td>0.848758</td>\n",
       "      <td>0.945895</td>\n",
       "    </tr>\n",
       "  </tbody>\n",
       "</table>\n",
       "</div>"
      ],
      "text/plain": [
       "    delta_time  proportional_gain  integral_gain  derivative_gain  \\\n",
       "90         0.1                 30            0.5              0.1   \n",
       "91         0.1                 30            0.5              0.1   \n",
       "92         0.1                 30            0.5              0.1   \n",
       "93         0.1                 30            0.5              0.1   \n",
       "94         0.1                 30            0.5              0.1   \n",
       "\n",
       "    logistic_function_mid  logistic_function_growth_rate  \\\n",
       "90                      1                             10   \n",
       "91                      1                             10   \n",
       "92                      1                             10   \n",
       "93                      1                             10   \n",
       "94                      1                             10   \n",
       "\n",
       "    lin_val_err_deriv_coeff  follower_too_far_percent  \\\n",
       "90                        2                  0.371622   \n",
       "91                        2                  0.320713   \n",
       "92                        2                  0.335570   \n",
       "93                        3                  0.346756   \n",
       "94                        3                  0.146727   \n",
       "\n",
       "    follower_too_close_percent  follower_goal_dist_percent  \\\n",
       "90                    0.004505                    0.623874   \n",
       "91                    0.002227                    0.677060   \n",
       "92                    0.002237                    0.662192   \n",
       "93                    0.060403                    0.592841   \n",
       "94                    0.004515                    0.848758   \n",
       "\n",
       "    Corrected_Goal_Dist  \n",
       "90             0.721010  \n",
       "91             0.774196  \n",
       "92             0.759329  \n",
       "93             0.689977  \n",
       "94             0.945895  "
      ]
     },
     "execution_count": 23,
     "metadata": {},
     "output_type": "execute_result"
    }
   ],
   "source": [
    "goalPerfRec.tail()"
   ]
  },
  {
   "cell_type": "code",
   "execution_count": 29,
   "metadata": {},
   "outputs": [],
   "source": [
    "randCorrections = []\n",
    "for i in range(0, goalPerfRec.shape[0]):\n",
    "    randCorrections.append((recCorrectMean + random.uniform(-recCorrectSTD, recCorrectSTD))/100)"
   ]
  },
  {
   "cell_type": "code",
   "execution_count": 35,
   "metadata": {},
   "outputs": [
    {
     "data": {
      "text/plain": [
       "-9.240333333333332"
      ]
     },
     "execution_count": 35,
     "metadata": {},
     "output_type": "execute_result"
    }
   ],
   "source": [
    "recCorrectMean\n"
   ]
  },
  {
   "cell_type": "code",
   "execution_count": 36,
   "metadata": {},
   "outputs": [],
   "source": [
    "goalPerfRec['Corrected_Goal_Dist'] = goalPerfRec['follower_goal_dist_percent'] + randCorrections"
   ]
  },
  {
   "cell_type": "code",
   "execution_count": 37,
   "metadata": {},
   "outputs": [
    {
     "data": {
      "text/html": [
       "<div>\n",
       "<style scoped>\n",
       "    .dataframe tbody tr th:only-of-type {\n",
       "        vertical-align: middle;\n",
       "    }\n",
       "\n",
       "    .dataframe tbody tr th {\n",
       "        vertical-align: top;\n",
       "    }\n",
       "\n",
       "    .dataframe thead th {\n",
       "        text-align: right;\n",
       "    }\n",
       "</style>\n",
       "<table border=\"1\" class=\"dataframe\">\n",
       "  <thead>\n",
       "    <tr style=\"text-align: right;\">\n",
       "      <th></th>\n",
       "      <th>delta_time</th>\n",
       "      <th>proportional_gain</th>\n",
       "      <th>integral_gain</th>\n",
       "      <th>derivative_gain</th>\n",
       "      <th>logistic_function_mid</th>\n",
       "      <th>logistic_function_growth_rate</th>\n",
       "      <th>lin_val_err_deriv_coeff</th>\n",
       "      <th>follower_too_far_percent</th>\n",
       "      <th>follower_too_close_percent</th>\n",
       "      <th>follower_goal_dist_percent</th>\n",
       "      <th>Corrected_Goal_Dist</th>\n",
       "    </tr>\n",
       "  </thead>\n",
       "  <tbody>\n",
       "    <tr>\n",
       "      <th>90</th>\n",
       "      <td>0.1</td>\n",
       "      <td>30</td>\n",
       "      <td>0.5</td>\n",
       "      <td>0.1</td>\n",
       "      <td>1</td>\n",
       "      <td>10</td>\n",
       "      <td>2</td>\n",
       "      <td>0.371622</td>\n",
       "      <td>0.004505</td>\n",
       "      <td>0.623874</td>\n",
       "      <td>0.527080</td>\n",
       "    </tr>\n",
       "    <tr>\n",
       "      <th>91</th>\n",
       "      <td>0.1</td>\n",
       "      <td>30</td>\n",
       "      <td>0.5</td>\n",
       "      <td>0.1</td>\n",
       "      <td>1</td>\n",
       "      <td>10</td>\n",
       "      <td>2</td>\n",
       "      <td>0.320713</td>\n",
       "      <td>0.002227</td>\n",
       "      <td>0.677060</td>\n",
       "      <td>0.560361</td>\n",
       "    </tr>\n",
       "    <tr>\n",
       "      <th>92</th>\n",
       "      <td>0.1</td>\n",
       "      <td>30</td>\n",
       "      <td>0.5</td>\n",
       "      <td>0.1</td>\n",
       "      <td>1</td>\n",
       "      <td>10</td>\n",
       "      <td>2</td>\n",
       "      <td>0.335570</td>\n",
       "      <td>0.002237</td>\n",
       "      <td>0.662192</td>\n",
       "      <td>0.593671</td>\n",
       "    </tr>\n",
       "    <tr>\n",
       "      <th>93</th>\n",
       "      <td>0.1</td>\n",
       "      <td>30</td>\n",
       "      <td>0.5</td>\n",
       "      <td>0.1</td>\n",
       "      <td>1</td>\n",
       "      <td>10</td>\n",
       "      <td>3</td>\n",
       "      <td>0.346756</td>\n",
       "      <td>0.060403</td>\n",
       "      <td>0.592841</td>\n",
       "      <td>0.503799</td>\n",
       "    </tr>\n",
       "    <tr>\n",
       "      <th>94</th>\n",
       "      <td>0.1</td>\n",
       "      <td>30</td>\n",
       "      <td>0.5</td>\n",
       "      <td>0.1</td>\n",
       "      <td>1</td>\n",
       "      <td>10</td>\n",
       "      <td>3</td>\n",
       "      <td>0.146727</td>\n",
       "      <td>0.004515</td>\n",
       "      <td>0.848758</td>\n",
       "      <td>0.750133</td>\n",
       "    </tr>\n",
       "  </tbody>\n",
       "</table>\n",
       "</div>"
      ],
      "text/plain": [
       "    delta_time  proportional_gain  integral_gain  derivative_gain  \\\n",
       "90         0.1                 30            0.5              0.1   \n",
       "91         0.1                 30            0.5              0.1   \n",
       "92         0.1                 30            0.5              0.1   \n",
       "93         0.1                 30            0.5              0.1   \n",
       "94         0.1                 30            0.5              0.1   \n",
       "\n",
       "    logistic_function_mid  logistic_function_growth_rate  \\\n",
       "90                      1                             10   \n",
       "91                      1                             10   \n",
       "92                      1                             10   \n",
       "93                      1                             10   \n",
       "94                      1                             10   \n",
       "\n",
       "    lin_val_err_deriv_coeff  follower_too_far_percent  \\\n",
       "90                        2                  0.371622   \n",
       "91                        2                  0.320713   \n",
       "92                        2                  0.335570   \n",
       "93                        3                  0.346756   \n",
       "94                        3                  0.146727   \n",
       "\n",
       "    follower_too_close_percent  follower_goal_dist_percent  \\\n",
       "90                    0.004505                    0.623874   \n",
       "91                    0.002227                    0.677060   \n",
       "92                    0.002237                    0.662192   \n",
       "93                    0.060403                    0.592841   \n",
       "94                    0.004515                    0.848758   \n",
       "\n",
       "    Corrected_Goal_Dist  \n",
       "90             0.527080  \n",
       "91             0.560361  \n",
       "92             0.593671  \n",
       "93             0.503799  \n",
       "94             0.750133  "
      ]
     },
     "execution_count": 37,
     "metadata": {},
     "output_type": "execute_result"
    }
   ],
   "source": [
    "goalPerfRec.tail()"
   ]
  },
  {
   "cell_type": "code",
   "execution_count": 38,
   "metadata": {},
   "outputs": [
    {
     "data": {
      "text/plain": [
       "0     0.238206\n",
       "1     0.135896\n",
       "2     0.282881\n",
       "3     0.222994\n",
       "4     0.378268\n",
       "5     0.404361\n",
       "6     0.568476\n",
       "7     0.407839\n",
       "8     0.258444\n",
       "9     0.632226\n",
       "10    0.369865\n",
       "11    0.328411\n",
       "12    0.243334\n",
       "13    0.428414\n",
       "14    0.130652\n",
       "15    0.020547\n",
       "16    0.316391\n",
       "17    0.270183\n",
       "18    0.587221\n",
       "19    0.358138\n",
       "20   -0.007987\n",
       "21    0.045945\n",
       "22    0.357240\n",
       "23    0.601272\n",
       "24    0.334222\n",
       "25    0.290974\n",
       "26    0.204589\n",
       "27    0.207430\n",
       "28    0.207407\n",
       "29    0.470289\n",
       "        ...   \n",
       "65    0.344811\n",
       "66    0.749705\n",
       "67    0.814678\n",
       "68    0.398676\n",
       "69    0.760797\n",
       "70    0.781492\n",
       "71    0.602701\n",
       "72    0.684494\n",
       "73    0.245413\n",
       "74    0.429434\n",
       "75    0.746106\n",
       "76    0.517745\n",
       "77    0.481443\n",
       "78    0.660925\n",
       "79    0.812159\n",
       "80    0.860142\n",
       "81    0.481687\n",
       "82    0.588624\n",
       "83    0.760238\n",
       "84    0.541062\n",
       "85   -0.075278\n",
       "86   -0.080197\n",
       "87    0.604971\n",
       "88   -0.069797\n",
       "89   -0.083858\n",
       "90    0.527080\n",
       "91    0.560361\n",
       "92    0.593671\n",
       "93    0.503799\n",
       "94    0.750133\n",
       "Name: Corrected_Goal_Dist, Length: 95, dtype: float64"
      ]
     },
     "execution_count": 38,
     "metadata": {},
     "output_type": "execute_result"
    }
   ],
   "source": [
    "goalPerfRec['Corrected_Goal_Dist']\n"
   ]
  },
  {
   "cell_type": "code",
   "execution_count": 39,
   "metadata": {},
   "outputs": [
    {
     "data": {
      "text/plain": [
       "0.3911956846608866"
      ]
     },
     "execution_count": 39,
     "metadata": {},
     "output_type": "execute_result"
    }
   ],
   "source": [
    "goalPerfRec['Corrected_Goal_Dist'].mean()"
   ]
  },
  {
   "cell_type": "code",
   "execution_count": 41,
   "metadata": {},
   "outputs": [
    {
     "ename": "KeyError",
     "evalue": "'[False False False False False False False False False False False False\\n False False False  True False False False False  True  True False False\\n False False False False False False False  True False False False False\\n False False  True False False False False False False  True False False\\n False False  True False False False False False False False  True False\\n False False False False False False False False False False False False\\n False False False False False False False False False False False False\\n False  True  True False  True  True False False False False False] not found in axis'",
     "output_type": "error",
     "traceback": [
      "\u001b[0;31m---------------------------------------------------------------------------\u001b[0m",
      "\u001b[0;31mKeyError\u001b[0m                                  Traceback (most recent call last)",
      "\u001b[0;32m<ipython-input-41-6bc58c012944>\u001b[0m in \u001b[0;36m<module>\u001b[0;34m\u001b[0m\n\u001b[0;32m----> 1\u001b[0;31m \u001b[0mgoalPerfRec\u001b[0m\u001b[0;34m.\u001b[0m\u001b[0mdrop\u001b[0m\u001b[0;34m(\u001b[0m\u001b[0mgoalPerfRec\u001b[0m\u001b[0;34m[\u001b[0m\u001b[0;34m'Corrected_Goal_Dist'\u001b[0m\u001b[0;34m]\u001b[0m \u001b[0;34m<\u001b[0m \u001b[0;36m0.1\u001b[0m\u001b[0;34m)\u001b[0m\u001b[0;34m\u001b[0m\u001b[0;34m\u001b[0m\u001b[0m\n\u001b[0m",
      "\u001b[0;32m/anaconda3/lib/python3.7/site-packages/pandas/core/frame.py\u001b[0m in \u001b[0;36mdrop\u001b[0;34m(self, labels, axis, index, columns, level, inplace, errors)\u001b[0m\n\u001b[1;32m   3695\u001b[0m                                            \u001b[0mindex\u001b[0m\u001b[0;34m=\u001b[0m\u001b[0mindex\u001b[0m\u001b[0;34m,\u001b[0m \u001b[0mcolumns\u001b[0m\u001b[0;34m=\u001b[0m\u001b[0mcolumns\u001b[0m\u001b[0;34m,\u001b[0m\u001b[0;34m\u001b[0m\u001b[0;34m\u001b[0m\u001b[0m\n\u001b[1;32m   3696\u001b[0m                                            \u001b[0mlevel\u001b[0m\u001b[0;34m=\u001b[0m\u001b[0mlevel\u001b[0m\u001b[0;34m,\u001b[0m \u001b[0minplace\u001b[0m\u001b[0;34m=\u001b[0m\u001b[0minplace\u001b[0m\u001b[0;34m,\u001b[0m\u001b[0;34m\u001b[0m\u001b[0;34m\u001b[0m\u001b[0m\n\u001b[0;32m-> 3697\u001b[0;31m                                            errors=errors)\n\u001b[0m\u001b[1;32m   3698\u001b[0m \u001b[0;34m\u001b[0m\u001b[0m\n\u001b[1;32m   3699\u001b[0m     @rewrite_axis_style_signature('mapper', [('copy', True),\n",
      "\u001b[0;32m/anaconda3/lib/python3.7/site-packages/pandas/core/generic.py\u001b[0m in \u001b[0;36mdrop\u001b[0;34m(self, labels, axis, index, columns, level, inplace, errors)\u001b[0m\n\u001b[1;32m   3109\u001b[0m         \u001b[0;32mfor\u001b[0m \u001b[0maxis\u001b[0m\u001b[0;34m,\u001b[0m \u001b[0mlabels\u001b[0m \u001b[0;32min\u001b[0m \u001b[0maxes\u001b[0m\u001b[0;34m.\u001b[0m\u001b[0mitems\u001b[0m\u001b[0;34m(\u001b[0m\u001b[0;34m)\u001b[0m\u001b[0;34m:\u001b[0m\u001b[0;34m\u001b[0m\u001b[0;34m\u001b[0m\u001b[0m\n\u001b[1;32m   3110\u001b[0m             \u001b[0;32mif\u001b[0m \u001b[0mlabels\u001b[0m \u001b[0;32mis\u001b[0m \u001b[0;32mnot\u001b[0m \u001b[0;32mNone\u001b[0m\u001b[0;34m:\u001b[0m\u001b[0;34m\u001b[0m\u001b[0;34m\u001b[0m\u001b[0m\n\u001b[0;32m-> 3111\u001b[0;31m                 \u001b[0mobj\u001b[0m \u001b[0;34m=\u001b[0m \u001b[0mobj\u001b[0m\u001b[0;34m.\u001b[0m\u001b[0m_drop_axis\u001b[0m\u001b[0;34m(\u001b[0m\u001b[0mlabels\u001b[0m\u001b[0;34m,\u001b[0m \u001b[0maxis\u001b[0m\u001b[0;34m,\u001b[0m \u001b[0mlevel\u001b[0m\u001b[0;34m=\u001b[0m\u001b[0mlevel\u001b[0m\u001b[0;34m,\u001b[0m \u001b[0merrors\u001b[0m\u001b[0;34m=\u001b[0m\u001b[0merrors\u001b[0m\u001b[0;34m)\u001b[0m\u001b[0;34m\u001b[0m\u001b[0;34m\u001b[0m\u001b[0m\n\u001b[0m\u001b[1;32m   3112\u001b[0m \u001b[0;34m\u001b[0m\u001b[0m\n\u001b[1;32m   3113\u001b[0m         \u001b[0;32mif\u001b[0m \u001b[0minplace\u001b[0m\u001b[0;34m:\u001b[0m\u001b[0;34m\u001b[0m\u001b[0;34m\u001b[0m\u001b[0m\n",
      "\u001b[0;32m/anaconda3/lib/python3.7/site-packages/pandas/core/generic.py\u001b[0m in \u001b[0;36m_drop_axis\u001b[0;34m(self, labels, axis, level, errors)\u001b[0m\n\u001b[1;32m   3141\u001b[0m                 \u001b[0mnew_axis\u001b[0m \u001b[0;34m=\u001b[0m \u001b[0maxis\u001b[0m\u001b[0;34m.\u001b[0m\u001b[0mdrop\u001b[0m\u001b[0;34m(\u001b[0m\u001b[0mlabels\u001b[0m\u001b[0;34m,\u001b[0m \u001b[0mlevel\u001b[0m\u001b[0;34m=\u001b[0m\u001b[0mlevel\u001b[0m\u001b[0;34m,\u001b[0m \u001b[0merrors\u001b[0m\u001b[0;34m=\u001b[0m\u001b[0merrors\u001b[0m\u001b[0;34m)\u001b[0m\u001b[0;34m\u001b[0m\u001b[0;34m\u001b[0m\u001b[0m\n\u001b[1;32m   3142\u001b[0m             \u001b[0;32melse\u001b[0m\u001b[0;34m:\u001b[0m\u001b[0;34m\u001b[0m\u001b[0;34m\u001b[0m\u001b[0m\n\u001b[0;32m-> 3143\u001b[0;31m                 \u001b[0mnew_axis\u001b[0m \u001b[0;34m=\u001b[0m \u001b[0maxis\u001b[0m\u001b[0;34m.\u001b[0m\u001b[0mdrop\u001b[0m\u001b[0;34m(\u001b[0m\u001b[0mlabels\u001b[0m\u001b[0;34m,\u001b[0m \u001b[0merrors\u001b[0m\u001b[0;34m=\u001b[0m\u001b[0merrors\u001b[0m\u001b[0;34m)\u001b[0m\u001b[0;34m\u001b[0m\u001b[0;34m\u001b[0m\u001b[0m\n\u001b[0m\u001b[1;32m   3144\u001b[0m             \u001b[0mresult\u001b[0m \u001b[0;34m=\u001b[0m \u001b[0mself\u001b[0m\u001b[0;34m.\u001b[0m\u001b[0mreindex\u001b[0m\u001b[0;34m(\u001b[0m\u001b[0;34m**\u001b[0m\u001b[0;34m{\u001b[0m\u001b[0maxis_name\u001b[0m\u001b[0;34m:\u001b[0m \u001b[0mnew_axis\u001b[0m\u001b[0;34m}\u001b[0m\u001b[0;34m)\u001b[0m\u001b[0;34m\u001b[0m\u001b[0;34m\u001b[0m\u001b[0m\n\u001b[1;32m   3145\u001b[0m \u001b[0;34m\u001b[0m\u001b[0m\n",
      "\u001b[0;32m/anaconda3/lib/python3.7/site-packages/pandas/core/indexes/base.py\u001b[0m in \u001b[0;36mdrop\u001b[0;34m(self, labels, errors)\u001b[0m\n\u001b[1;32m   4402\u001b[0m             \u001b[0;32mif\u001b[0m \u001b[0merrors\u001b[0m \u001b[0;34m!=\u001b[0m \u001b[0;34m'ignore'\u001b[0m\u001b[0;34m:\u001b[0m\u001b[0;34m\u001b[0m\u001b[0;34m\u001b[0m\u001b[0m\n\u001b[1;32m   4403\u001b[0m                 raise KeyError(\n\u001b[0;32m-> 4404\u001b[0;31m                     '{} not found in axis'.format(labels[mask]))\n\u001b[0m\u001b[1;32m   4405\u001b[0m             \u001b[0mindexer\u001b[0m \u001b[0;34m=\u001b[0m \u001b[0mindexer\u001b[0m\u001b[0;34m[\u001b[0m\u001b[0;34m~\u001b[0m\u001b[0mmask\u001b[0m\u001b[0;34m]\u001b[0m\u001b[0;34m\u001b[0m\u001b[0;34m\u001b[0m\u001b[0m\n\u001b[1;32m   4406\u001b[0m         \u001b[0;32mreturn\u001b[0m \u001b[0mself\u001b[0m\u001b[0;34m.\u001b[0m\u001b[0mdelete\u001b[0m\u001b[0;34m(\u001b[0m\u001b[0mindexer\u001b[0m\u001b[0;34m)\u001b[0m\u001b[0;34m\u001b[0m\u001b[0;34m\u001b[0m\u001b[0m\n",
      "\u001b[0;31mKeyError\u001b[0m: '[False False False False False False False False False False False False\\n False False False  True False False False False  True  True False False\\n False False False False False False False  True False False False False\\n False False  True False False False False False False  True False False\\n False False  True False False False False False False False  True False\\n False False False False False False False False False False False False\\n False False False False False False False False False False False False\\n False  True  True False  True  True False False False False False] not found in axis'"
     ]
    }
   ],
   "source": [
    "#goalPerfRec = goalPerfRec['Corrected_Goal_Dist'] > 0.1"
   ]
  },
  {
   "cell_type": "code",
   "execution_count": null,
   "metadata": {},
   "outputs": [],
   "source": []
  }
 ],
 "metadata": {
  "kernelspec": {
   "display_name": "Python 3",
   "language": "python",
   "name": "python3"
  },
  "language_info": {
   "codemirror_mode": {
    "name": "ipython",
    "version": 3
   },
   "file_extension": ".py",
   "mimetype": "text/x-python",
   "name": "python",
   "nbconvert_exporter": "python",
   "pygments_lexer": "ipython3",
   "version": "3.7.1"
  }
 },
 "nbformat": 4,
 "nbformat_minor": 2
}
