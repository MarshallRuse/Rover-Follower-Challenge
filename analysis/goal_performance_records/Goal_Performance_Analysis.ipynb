{
 "cells": [
  {
   "cell_type": "code",
   "execution_count": 40,
   "metadata": {},
   "outputs": [],
   "source": [
    "import numpy as np\n",
    "import pandas as pd\n",
    "import matplotlib.pyplot as plt\n",
    "import seaborn as sns\n",
    "import random\n",
    "\n",
    "%matplotlib inline"
   ]
  },
  {
   "cell_type": "code",
   "execution_count": 27,
   "metadata": {},
   "outputs": [],
   "source": [
    "recordCorrection = pd.DataFrame(columns=['Goal_Dist','Too_Close','Too_Far','Rec_Goal_Dist','Rec_Too_Close','Rec_Too_Far'])\n",
    "\n",
    "\n"
   ]
  },
  {
   "cell_type": "code",
   "execution_count": 28,
   "metadata": {},
   "outputs": [],
   "source": [
    "goaldist = [83.75,51.667,61.25,71.25,51.25,58.75,56.67,52.92,74.17]\n",
    "tooclose = [0,0,0,0,0,0,0,1.25,0]\n",
    "toofar = [16.25,48.33,38.75,28.75,48.75,41.25,43.33,45.83,25.83]\n",
    "recgoaldist = [93.90,57.91,67.48,83.14,64.33,67.70,66.22,59.28,84.88]\n",
    "rectooclose = [0.45,1.55,2.00,0.00,0.00,0.00,0.00,6.00,0.00]\n",
    "rectoofar = [5.64,40.53,30.95,16.40,35.44,32.07,33.56,34.68,14.67]\n",
    "\n",
    "\n",
    "recordCorrection['Goal_Dist'] = goaldist\n",
    "recordCorrection['Too_Close'] = tooclose\n",
    "recordCorrection['Too_Far'] = toofar\n",
    "recordCorrection['Rec_Goal_Dist'] = recgoaldist\n",
    "recordCorrection['Rec_Too_Close'] = rectooclose\n",
    "recordCorrection['Rec_Too_Far'] = rectoofar"
   ]
  },
  {
   "cell_type": "code",
   "execution_count": 29,
   "metadata": {},
   "outputs": [],
   "source": [
    "recordCorrection['goaldist_diff'] = recordCorrection['Goal_Dist'] - recordCorrection['Rec_Goal_Dist']"
   ]
  },
  {
   "cell_type": "code",
   "execution_count": 30,
   "metadata": {},
   "outputs": [
    {
     "data": {
      "text/plain": [
       "-0.09240333333333332"
      ]
     },
     "execution_count": 30,
     "metadata": {},
     "output_type": "execute_result"
    }
   ],
   "source": [
    "recCorrectMean = recordCorrection['goaldist_diff'].mean() / 100\n",
    "recCorrectMean"
   ]
  },
  {
   "cell_type": "code",
   "execution_count": 31,
   "metadata": {},
   "outputs": [
    {
     "data": {
      "text/plain": [
       "0.02531644919810043"
      ]
     },
     "execution_count": 31,
     "metadata": {},
     "output_type": "execute_result"
    }
   ],
   "source": [
    "recCorrectSTD = recordCorrection['goaldist_diff'].std() / 100\n",
    "recCorrectSTD"
   ]
  },
  {
   "cell_type": "code",
   "execution_count": 111,
   "metadata": {},
   "outputs": [],
   "source": [
    "goalPerfRec = pd.read_csv('parameter_tuning.csv')"
   ]
  },
  {
   "cell_type": "code",
   "execution_count": 112,
   "metadata": {},
   "outputs": [
    {
     "data": {
      "text/html": [
       "<div>\n",
       "<style scoped>\n",
       "    .dataframe tbody tr th:only-of-type {\n",
       "        vertical-align: middle;\n",
       "    }\n",
       "\n",
       "    .dataframe tbody tr th {\n",
       "        vertical-align: top;\n",
       "    }\n",
       "\n",
       "    .dataframe thead th {\n",
       "        text-align: right;\n",
       "    }\n",
       "</style>\n",
       "<table border=\"1\" class=\"dataframe\">\n",
       "  <thead>\n",
       "    <tr style=\"text-align: right;\">\n",
       "      <th></th>\n",
       "      <th>delta_time</th>\n",
       "      <th>proportional_gain</th>\n",
       "      <th>integral_gain</th>\n",
       "      <th>derivative_gain</th>\n",
       "      <th>logistic_function_mid</th>\n",
       "      <th>logistic_function_growth_rate</th>\n",
       "      <th>lin_val_err_deriv_coeff</th>\n",
       "      <th>follower_too_far_percent</th>\n",
       "      <th>follower_too_close_percent</th>\n",
       "      <th>follower_goal_dist_percent</th>\n",
       "    </tr>\n",
       "  </thead>\n",
       "  <tbody>\n",
       "    <tr>\n",
       "      <th>0</th>\n",
       "      <td>1.0</td>\n",
       "      <td>20</td>\n",
       "      <td>0.0</td>\n",
       "      <td>0.0</td>\n",
       "      <td>2</td>\n",
       "      <td>7.0</td>\n",
       "      <td>1.0</td>\n",
       "      <td>0.655172</td>\n",
       "      <td>0.017241</td>\n",
       "      <td>0.327586</td>\n",
       "    </tr>\n",
       "    <tr>\n",
       "      <th>1</th>\n",
       "      <td>1.0</td>\n",
       "      <td>20</td>\n",
       "      <td>0.0</td>\n",
       "      <td>0.0</td>\n",
       "      <td>2</td>\n",
       "      <td>7.0</td>\n",
       "      <td>1.0</td>\n",
       "      <td>0.741379</td>\n",
       "      <td>0.017241</td>\n",
       "      <td>0.241379</td>\n",
       "    </tr>\n",
       "    <tr>\n",
       "      <th>2</th>\n",
       "      <td>1.0</td>\n",
       "      <td>20</td>\n",
       "      <td>0.0</td>\n",
       "      <td>0.0</td>\n",
       "      <td>2</td>\n",
       "      <td>7.0</td>\n",
       "      <td>1.0</td>\n",
       "      <td>0.568966</td>\n",
       "      <td>0.068966</td>\n",
       "      <td>0.362069</td>\n",
       "    </tr>\n",
       "    <tr>\n",
       "      <th>3</th>\n",
       "      <td>1.0</td>\n",
       "      <td>20</td>\n",
       "      <td>0.0</td>\n",
       "      <td>0.0</td>\n",
       "      <td>2</td>\n",
       "      <td>7.0</td>\n",
       "      <td>1.0</td>\n",
       "      <td>0.672414</td>\n",
       "      <td>0.017241</td>\n",
       "      <td>0.310345</td>\n",
       "    </tr>\n",
       "    <tr>\n",
       "      <th>4</th>\n",
       "      <td>1.0</td>\n",
       "      <td>20</td>\n",
       "      <td>0.0</td>\n",
       "      <td>0.0</td>\n",
       "      <td>1</td>\n",
       "      <td>7.0</td>\n",
       "      <td>1.0</td>\n",
       "      <td>0.379310</td>\n",
       "      <td>0.155172</td>\n",
       "      <td>0.465517</td>\n",
       "    </tr>\n",
       "  </tbody>\n",
       "</table>\n",
       "</div>"
      ],
      "text/plain": [
       "   delta_time  proportional_gain  integral_gain  derivative_gain  \\\n",
       "0         1.0                 20            0.0              0.0   \n",
       "1         1.0                 20            0.0              0.0   \n",
       "2         1.0                 20            0.0              0.0   \n",
       "3         1.0                 20            0.0              0.0   \n",
       "4         1.0                 20            0.0              0.0   \n",
       "\n",
       "   logistic_function_mid  logistic_function_growth_rate  \\\n",
       "0                      2                            7.0   \n",
       "1                      2                            7.0   \n",
       "2                      2                            7.0   \n",
       "3                      2                            7.0   \n",
       "4                      1                            7.0   \n",
       "\n",
       "   lin_val_err_deriv_coeff  follower_too_far_percent  \\\n",
       "0                      1.0                  0.655172   \n",
       "1                      1.0                  0.741379   \n",
       "2                      1.0                  0.568966   \n",
       "3                      1.0                  0.672414   \n",
       "4                      1.0                  0.379310   \n",
       "\n",
       "   follower_too_close_percent  follower_goal_dist_percent  \n",
       "0                    0.017241                    0.327586  \n",
       "1                    0.017241                    0.241379  \n",
       "2                    0.068966                    0.362069  \n",
       "3                    0.017241                    0.310345  \n",
       "4                    0.155172                    0.465517  "
      ]
     },
     "execution_count": 112,
     "metadata": {},
     "output_type": "execute_result"
    }
   ],
   "source": [
    "goalPerfRec.head()"
   ]
  },
  {
   "cell_type": "code",
   "execution_count": 113,
   "metadata": {},
   "outputs": [],
   "source": [
    "goalPerfRec['corrected_goal_dist_percent'] = (goalPerfRec['follower_goal_dist_percent'] + (recCorrectMean + random.uniform(-recCorrectSTD, recCorrectSTD))) * 100"
   ]
  },
  {
   "cell_type": "code",
   "execution_count": 114,
   "metadata": {},
   "outputs": [
    {
     "data": {
      "text/plain": [
       "148    78.056757\n",
       "149    56.504391\n",
       "150    82.982370\n",
       "151    74.799346\n",
       "152    80.977836\n",
       "Name: corrected_goal_dist_percent, dtype: float64"
      ]
     },
     "execution_count": 114,
     "metadata": {},
     "output_type": "execute_result"
    }
   ],
   "source": [
    "goalPerfRec['corrected_goal_dist_percent'].tail()"
   ]
  },
  {
   "cell_type": "code",
   "execution_count": 115,
   "metadata": {},
   "outputs": [
    {
     "data": {
      "text/plain": [
       "delta_time                         4\n",
       "proportional_gain                  8\n",
       "integral_gain                      5\n",
       "derivative_gain                    5\n",
       "logistic_function_mid              3\n",
       "logistic_function_growth_rate      6\n",
       "lin_val_err_deriv_coeff            7\n",
       "follower_too_far_percent         134\n",
       "follower_too_close_percent        91\n",
       "follower_goal_dist_percent       131\n",
       "corrected_goal_dist_percent      131\n",
       "dtype: int64"
      ]
     },
     "execution_count": 115,
     "metadata": {},
     "output_type": "execute_result"
    }
   ],
   "source": [
    "goalPerfRec.nunique()"
   ]
  },
  {
   "cell_type": "code",
   "execution_count": 89,
   "metadata": {},
   "outputs": [
    {
     "data": {
      "text/plain": [
       "<matplotlib.axes._subplots.AxesSubplot at 0x1a29a059e8>"
      ]
     },
     "execution_count": 89,
     "metadata": {},
     "output_type": "execute_result"
    },
    {
     "data": {
      "image/png": "[encoded data removed]",
      "text/plain": [
       "<Figure size 1440x576 with 2 Axes>"
      ]
     },
     "metadata": {
      "needs_background": "light"
     },
     "output_type": "display_data"
    }
   ],
   "source": [
    "colormap = plt.cm.RdBu\n",
    "plt.figure(figsize=(20,8))\n",
    "plt.title('Spearman Correlation of Features', y=1.05, size=15)\n",
    "\n",
    "sns.heatmap(goalPerfRec.drop('follower_goal_dist_percent',axis=1).corr(method='spearman'),linewidths=0.1,vmax=1.0, \n",
    "            square=True, cmap=colormap, linecolor='white', annot=True)"
   ]
  },
  {
   "cell_type": "code",
   "execution_count": 116,
   "metadata": {},
   "outputs": [
    {
     "data": {
      "text/plain": [
       "Text(0.5, 1.0, 'Goal Distance % vs. Proportional Gain ')"
      ]
     },
     "execution_count": 116,
     "metadata": {},
     "output_type": "execute_result"
    },
    {
     "data": {
      "image/png": "[encoded data removed]",
      "text/plain": [
       "<Figure size 576x432 with 1 Axes>"
      ]
     },
     "metadata": {
      "needs_background": "light"
     },
     "output_type": "display_data"
    }
   ],
   "source": [
    "fig, ax = plt.subplots(figsize=(8,6))\n",
    "ax.scatter(goalPerfRec['proportional_gain'], goalPerfRec['corrected_goal_dist_percent'])\n",
    "ax.set_xlabel('proportional gain')\n",
    "ax.set_ylabel('Goal Distance %')\n",
    "ax.set_title('Goal Distance % vs. Proportional Gain ')"
   ]
  },
  {
   "cell_type": "code",
   "execution_count": 117,
   "metadata": {},
   "outputs": [
    {
     "data": {
      "text/plain": [
       "Text(0.5, 1.0, 'Goal Distance % vs. Integral Gain ')"
      ]
     },
     "execution_count": 117,
     "metadata": {},
     "output_type": "execute_result"
    },
    {
     "data": {
      "image/png": "[encoded data removed]",
      "text/plain": [
       "<Figure size 576x432 with 1 Axes>"
      ]
     },
     "metadata": {
      "needs_background": "light"
     },
     "output_type": "display_data"
    }
   ],
   "source": [
    "fig, ax = plt.subplots(figsize=(8,6))\n",
    "ax.scatter(goalPerfRec['integral_gain'], goalPerfRec['corrected_goal_dist_percent'])\n",
    "ax.set_xlabel('Integral Gain')\n",
    "ax.set_ylabel('Goal Distance %')\n",
    "ax.set_title('Goal Distance % vs. Integral Gain ')"
   ]
  },
  {
   "cell_type": "code",
   "execution_count": 118,
   "metadata": {},
   "outputs": [
    {
     "data": {
      "text/plain": [
       "Text(0.5, 1.0, 'Goal Distance % vs. logistic_function_growth_rate')"
      ]
     },
     "execution_count": 118,
     "metadata": {},
     "output_type": "execute_result"
    },
    {
     "data": {
      "image/png": "[encoded data removed]",
      "text/plain": [
       "<Figure size 576x432 with 1 Axes>"
      ]
     },
     "metadata": {
      "needs_background": "light"
     },
     "output_type": "display_data"
    }
   ],
   "source": [
    "fig, ax = plt.subplots(figsize=(8,6))\n",
    "ax.scatter(goalPerfRec['logistic_function_growth_rate'], goalPerfRec['corrected_goal_dist_percent'])\n",
    "ax.set_xlabel('logistic_function_growth_rate')\n",
    "ax.set_ylabel('Goal Distance %')\n",
    "ax.set_title('Goal Distance % vs. logistic_function_growth_rate')"
   ]
  },
  {
   "cell_type": "code",
   "execution_count": 119,
   "metadata": {},
   "outputs": [
    {
     "data": {
      "text/plain": [
       "Text(0.5, 1.0, 'Goal Distance % vs. lin_val_err_deriv_coeff')"
      ]
     },
     "execution_count": 119,
     "metadata": {},
     "output_type": "execute_result"
    },
    {
     "data": {
      "image/png": "[encoded data removed]",
      "text/plain": [
       "<Figure size 576x432 with 1 Axes>"
      ]
     },
     "metadata": {
      "needs_background": "light"
     },
     "output_type": "display_data"
    }
   ],
   "source": [
    "fig, ax = plt.subplots(figsize=(8,6))\n",
    "ax.scatter(goalPerfRec['lin_val_err_deriv_coeff'], goalPerfRec['corrected_goal_dist_percent'])\n",
    "ax.set_xlabel('lin_val_err_deriv_coeff')\n",
    "ax.set_ylabel('Goal Distance %')\n",
    "ax.set_title('Goal Distance % vs. lin_val_err_deriv_coeff')"
   ]
  },
  {
   "cell_type": "code",
   "execution_count": 120,
   "metadata": {},
   "outputs": [
    {
     "data": {
      "text/plain": [
       "Text(0.5, 1.0, 'Goal Distance % vs. delta_time')"
      ]
     },
     "execution_count": 120,
     "metadata": {},
     "output_type": "execute_result"
    },
    {
     "data": {
      "image/png": "[encoded data removed]",
      "text/plain": [
       "<Figure size 576x432 with 1 Axes>"
      ]
     },
     "metadata": {
      "needs_background": "light"
     },
     "output_type": "display_data"
    }
   ],
   "source": [
    "fig, ax = plt.subplots(figsize=(8,6))\n",
    "ax.scatter(goalPerfRec['delta_time'], goalPerfRec['corrected_goal_dist_percent'])\n",
    "ax.set_xlabel('delta_time  ')\n",
    "ax.set_ylabel('Goal Distance %')\n",
    "ax.set_title('Goal Distance % vs. delta_time')"
   ]
  },
  {
   "cell_type": "code",
   "execution_count": 121,
   "metadata": {},
   "outputs": [],
   "source": [
    "# drop rows fewer than 10% goal distance, these were generally failures in testing\n",
    "goalPerfRec = goalPerfRec[goalPerfRec['corrected_goal_dist_percent'] > 10]"
   ]
  },
  {
   "cell_type": "code",
   "execution_count": 122,
   "metadata": {},
   "outputs": [
    {
     "data": {
      "text/plain": [
       "count    138.000000\n",
       "mean      52.028154\n",
       "std       19.970724\n",
       "min       12.063912\n",
       "25%       35.538713\n",
       "50%       53.091831\n",
       "75%       69.691578\n",
       "max       87.834916\n",
       "Name: corrected_goal_dist_percent, dtype: float64"
      ]
     },
     "execution_count": 122,
     "metadata": {},
     "output_type": "execute_result"
    }
   ],
   "source": [
    "goalPerfRec['corrected_goal_dist_percent'].describe()"
   ]
  },
  {
   "cell_type": "code",
   "execution_count": 134,
   "metadata": {},
   "outputs": [
    {
     "data": {
      "text/plain": [
       "count    138.000000\n",
       "mean      33.145981\n",
       "std       17.452443\n",
       "min        0.921659\n",
       "25%       18.792902\n",
       "50%       32.984665\n",
       "75%       46.551724\n",
       "max       74.358974\n",
       "Name: follower_too_far_percent, dtype: float64"
      ]
     },
     "execution_count": 134,
     "metadata": {},
     "output_type": "execute_result"
    }
   ],
   "source": [
    "goalPerfRec['follower_too_far_percent'] = goalPerfRec['follower_too_far_percent'] * 100\n",
    "goalPerfRec['follower_too_far_percent'].describe()"
   ]
  },
  {
   "cell_type": "code",
   "execution_count": 140,
   "metadata": {},
   "outputs": [
    {
     "data": {
      "text/plain": [
       "count    138.000000\n",
       "mean      33.145981\n",
       "std       17.452443\n",
       "min        0.921659\n",
       "25%       18.792902\n",
       "50%       32.984665\n",
       "75%       46.551724\n",
       "max       74.358974\n",
       "Name: follower_too_close_percent, dtype: float64"
      ]
     },
     "execution_count": 140,
     "metadata": {},
     "output_type": "execute_result"
    }
   ],
   "source": [
    "goalPerfRec['follower_too_close_percent'] = goalPerfRec['follower_too_close_percent'] * 100\n",
    "goalPerfRec['follower_too_close_percent'].describe()"
   ]
  },
  {
   "cell_type": "code",
   "execution_count": 123,
   "metadata": {},
   "outputs": [],
   "source": [
    "optimalSet = goalPerfRec[goalPerfRec['proportional_gain'] == 30]"
   ]
  },
  {
   "cell_type": "code",
   "execution_count": 124,
   "metadata": {},
   "outputs": [],
   "source": [
    "optimalSet = optimalSet[optimalSet['delta_time'] == 0.1]"
   ]
  },
  {
   "cell_type": "code",
   "execution_count": 125,
   "metadata": {},
   "outputs": [
    {
     "data": {
      "text/plain": [
       "array([0. , 1. , 0.5, 2. , 3. ])"
      ]
     },
     "execution_count": 125,
     "metadata": {},
     "output_type": "execute_result"
    }
   ],
   "source": [
    "goalPerfRec['integral_gain'].unique()"
   ]
  },
  {
   "cell_type": "code",
   "execution_count": 126,
   "metadata": {},
   "outputs": [],
   "source": [
    "optimalSet = optimalSet[optimalSet['integral_gain'] == 0.5]"
   ]
  },
  {
   "cell_type": "code",
   "execution_count": 127,
   "metadata": {},
   "outputs": [
    {
     "data": {
      "text/html": [
       "<div>\n",
       "<style scoped>\n",
       "    .dataframe tbody tr th:only-of-type {\n",
       "        vertical-align: middle;\n",
       "    }\n",
       "\n",
       "    .dataframe tbody tr th {\n",
       "        vertical-align: top;\n",
       "    }\n",
       "\n",
       "    .dataframe thead th {\n",
       "        text-align: right;\n",
       "    }\n",
       "</style>\n",
       "<table border=\"1\" class=\"dataframe\">\n",
       "  <thead>\n",
       "    <tr style=\"text-align: right;\">\n",
       "      <th></th>\n",
       "      <th>delta_time</th>\n",
       "      <th>proportional_gain</th>\n",
       "      <th>integral_gain</th>\n",
       "      <th>derivative_gain</th>\n",
       "      <th>logistic_function_mid</th>\n",
       "      <th>logistic_function_growth_rate</th>\n",
       "      <th>lin_val_err_deriv_coeff</th>\n",
       "      <th>follower_too_far_percent</th>\n",
       "      <th>follower_too_close_percent</th>\n",
       "      <th>follower_goal_dist_percent</th>\n",
       "      <th>corrected_goal_dist_percent</th>\n",
       "    </tr>\n",
       "  </thead>\n",
       "  <tbody>\n",
       "    <tr>\n",
       "      <th>74</th>\n",
       "      <td>0.1</td>\n",
       "      <td>30</td>\n",
       "      <td>0.5</td>\n",
       "      <td>0.1</td>\n",
       "      <td>1</td>\n",
       "      <td>10.0</td>\n",
       "      <td>2.0</td>\n",
       "      <td>0.479358</td>\n",
       "      <td>0.004587</td>\n",
       "      <td>0.516055</td>\n",
       "      <td>40.592494</td>\n",
       "    </tr>\n",
       "    <tr>\n",
       "      <th>75</th>\n",
       "      <td>0.1</td>\n",
       "      <td>30</td>\n",
       "      <td>0.5</td>\n",
       "      <td>0.1</td>\n",
       "      <td>1</td>\n",
       "      <td>10.0</td>\n",
       "      <td>2.0</td>\n",
       "      <td>0.163972</td>\n",
       "      <td>0.004619</td>\n",
       "      <td>0.831409</td>\n",
       "      <td>72.127867</td>\n",
       "    </tr>\n",
       "    <tr>\n",
       "      <th>76</th>\n",
       "      <td>0.1</td>\n",
       "      <td>30</td>\n",
       "      <td>0.5</td>\n",
       "      <td>0.1</td>\n",
       "      <td>1</td>\n",
       "      <td>10.0</td>\n",
       "      <td>2.0</td>\n",
       "      <td>0.328918</td>\n",
       "      <td>0.070640</td>\n",
       "      <td>0.600442</td>\n",
       "      <td>49.031139</td>\n",
       "    </tr>\n",
       "    <tr>\n",
       "      <th>77</th>\n",
       "      <td>0.1</td>\n",
       "      <td>30</td>\n",
       "      <td>0.5</td>\n",
       "      <td>0.1</td>\n",
       "      <td>1</td>\n",
       "      <td>10.0</td>\n",
       "      <td>2.0</td>\n",
       "      <td>0.427617</td>\n",
       "      <td>0.004454</td>\n",
       "      <td>0.567929</td>\n",
       "      <td>45.779862</td>\n",
       "    </tr>\n",
       "    <tr>\n",
       "      <th>78</th>\n",
       "      <td>0.1</td>\n",
       "      <td>30</td>\n",
       "      <td>0.5</td>\n",
       "      <td>0.1</td>\n",
       "      <td>1</td>\n",
       "      <td>10.0</td>\n",
       "      <td>2.0</td>\n",
       "      <td>0.234783</td>\n",
       "      <td>0.017391</td>\n",
       "      <td>0.747826</td>\n",
       "      <td>63.769598</td>\n",
       "    </tr>\n",
       "    <tr>\n",
       "      <th>79</th>\n",
       "      <td>0.1</td>\n",
       "      <td>30</td>\n",
       "      <td>0.5</td>\n",
       "      <td>0.1</td>\n",
       "      <td>1</td>\n",
       "      <td>10.0</td>\n",
       "      <td>2.0</td>\n",
       "      <td>0.109890</td>\n",
       "      <td>0.004396</td>\n",
       "      <td>0.885714</td>\n",
       "      <td>77.558418</td>\n",
       "    </tr>\n",
       "    <tr>\n",
       "      <th>80</th>\n",
       "      <td>0.1</td>\n",
       "      <td>30</td>\n",
       "      <td>0.5</td>\n",
       "      <td>0.1</td>\n",
       "      <td>1</td>\n",
       "      <td>10.0</td>\n",
       "      <td>2.0</td>\n",
       "      <td>0.056433</td>\n",
       "      <td>0.004515</td>\n",
       "      <td>0.939052</td>\n",
       "      <td>82.892181</td>\n",
       "    </tr>\n",
       "    <tr>\n",
       "      <th>81</th>\n",
       "      <td>0.1</td>\n",
       "      <td>30</td>\n",
       "      <td>0.5</td>\n",
       "      <td>0.1</td>\n",
       "      <td>1</td>\n",
       "      <td>10.0</td>\n",
       "      <td>2.0</td>\n",
       "      <td>0.405345</td>\n",
       "      <td>0.015590</td>\n",
       "      <td>0.579065</td>\n",
       "      <td>46.893448</td>\n",
       "    </tr>\n",
       "    <tr>\n",
       "      <th>82</th>\n",
       "      <td>0.1</td>\n",
       "      <td>30</td>\n",
       "      <td>0.5</td>\n",
       "      <td>0.1</td>\n",
       "      <td>1</td>\n",
       "      <td>10.0</td>\n",
       "      <td>2.0</td>\n",
       "      <td>0.309577</td>\n",
       "      <td>0.015590</td>\n",
       "      <td>0.674833</td>\n",
       "      <td>56.470285</td>\n",
       "    </tr>\n",
       "    <tr>\n",
       "      <th>83</th>\n",
       "      <td>0.1</td>\n",
       "      <td>30</td>\n",
       "      <td>0.5</td>\n",
       "      <td>0.1</td>\n",
       "      <td>1</td>\n",
       "      <td>10.0</td>\n",
       "      <td>2.0</td>\n",
       "      <td>0.164045</td>\n",
       "      <td>0.004494</td>\n",
       "      <td>0.831461</td>\n",
       "      <td>72.133057</td>\n",
       "    </tr>\n",
       "    <tr>\n",
       "      <th>84</th>\n",
       "      <td>0.1</td>\n",
       "      <td>30</td>\n",
       "      <td>0.5</td>\n",
       "      <td>0.1</td>\n",
       "      <td>1</td>\n",
       "      <td>10.0</td>\n",
       "      <td>2.0</td>\n",
       "      <td>0.354402</td>\n",
       "      <td>0.002257</td>\n",
       "      <td>0.643341</td>\n",
       "      <td>53.321075</td>\n",
       "    </tr>\n",
       "    <tr>\n",
       "      <th>87</th>\n",
       "      <td>0.1</td>\n",
       "      <td>30</td>\n",
       "      <td>0.5</td>\n",
       "      <td>0.1</td>\n",
       "      <td>1</td>\n",
       "      <td>10.0</td>\n",
       "      <td>2.0</td>\n",
       "      <td>0.295045</td>\n",
       "      <td>0.002252</td>\n",
       "      <td>0.702703</td>\n",
       "      <td>59.257260</td>\n",
       "    </tr>\n",
       "    <tr>\n",
       "      <th>90</th>\n",
       "      <td>0.1</td>\n",
       "      <td>30</td>\n",
       "      <td>0.5</td>\n",
       "      <td>0.1</td>\n",
       "      <td>1</td>\n",
       "      <td>10.0</td>\n",
       "      <td>2.0</td>\n",
       "      <td>0.371622</td>\n",
       "      <td>0.004505</td>\n",
       "      <td>0.623874</td>\n",
       "      <td>51.374377</td>\n",
       "    </tr>\n",
       "    <tr>\n",
       "      <th>91</th>\n",
       "      <td>0.1</td>\n",
       "      <td>30</td>\n",
       "      <td>0.5</td>\n",
       "      <td>0.1</td>\n",
       "      <td>1</td>\n",
       "      <td>10.0</td>\n",
       "      <td>2.0</td>\n",
       "      <td>0.320713</td>\n",
       "      <td>0.002227</td>\n",
       "      <td>0.677060</td>\n",
       "      <td>56.693003</td>\n",
       "    </tr>\n",
       "    <tr>\n",
       "      <th>92</th>\n",
       "      <td>0.1</td>\n",
       "      <td>30</td>\n",
       "      <td>0.5</td>\n",
       "      <td>0.1</td>\n",
       "      <td>1</td>\n",
       "      <td>10.0</td>\n",
       "      <td>2.0</td>\n",
       "      <td>0.335570</td>\n",
       "      <td>0.002237</td>\n",
       "      <td>0.662192</td>\n",
       "      <td>55.206229</td>\n",
       "    </tr>\n",
       "    <tr>\n",
       "      <th>93</th>\n",
       "      <td>0.1</td>\n",
       "      <td>30</td>\n",
       "      <td>0.5</td>\n",
       "      <td>0.1</td>\n",
       "      <td>1</td>\n",
       "      <td>10.0</td>\n",
       "      <td>3.0</td>\n",
       "      <td>0.346756</td>\n",
       "      <td>0.060403</td>\n",
       "      <td>0.592841</td>\n",
       "      <td>48.271106</td>\n",
       "    </tr>\n",
       "    <tr>\n",
       "      <th>94</th>\n",
       "      <td>0.1</td>\n",
       "      <td>30</td>\n",
       "      <td>0.5</td>\n",
       "      <td>0.1</td>\n",
       "      <td>1</td>\n",
       "      <td>10.0</td>\n",
       "      <td>3.0</td>\n",
       "      <td>0.146727</td>\n",
       "      <td>0.004515</td>\n",
       "      <td>0.848758</td>\n",
       "      <td>73.862836</td>\n",
       "    </tr>\n",
       "    <tr>\n",
       "      <th>95</th>\n",
       "      <td>0.1</td>\n",
       "      <td>30</td>\n",
       "      <td>0.5</td>\n",
       "      <td>0.1</td>\n",
       "      <td>1</td>\n",
       "      <td>10.0</td>\n",
       "      <td>3.0</td>\n",
       "      <td>0.264631</td>\n",
       "      <td>0.005089</td>\n",
       "      <td>0.730280</td>\n",
       "      <td>62.014979</td>\n",
       "    </tr>\n",
       "    <tr>\n",
       "      <th>96</th>\n",
       "      <td>0.1</td>\n",
       "      <td>30</td>\n",
       "      <td>0.5</td>\n",
       "      <td>0.1</td>\n",
       "      <td>1</td>\n",
       "      <td>10.0</td>\n",
       "      <td>3.0</td>\n",
       "      <td>0.134703</td>\n",
       "      <td>0.002283</td>\n",
       "      <td>0.863014</td>\n",
       "      <td>75.288359</td>\n",
       "    </tr>\n",
       "    <tr>\n",
       "      <th>97</th>\n",
       "      <td>0.1</td>\n",
       "      <td>30</td>\n",
       "      <td>0.5</td>\n",
       "      <td>0.1</td>\n",
       "      <td>1</td>\n",
       "      <td>10.0</td>\n",
       "      <td>3.0</td>\n",
       "      <td>0.346241</td>\n",
       "      <td>0.047836</td>\n",
       "      <td>0.605923</td>\n",
       "      <td>49.579244</td>\n",
       "    </tr>\n",
       "    <tr>\n",
       "      <th>98</th>\n",
       "      <td>0.1</td>\n",
       "      <td>30</td>\n",
       "      <td>0.5</td>\n",
       "      <td>0.1</td>\n",
       "      <td>1</td>\n",
       "      <td>10.0</td>\n",
       "      <td>3.0</td>\n",
       "      <td>0.102757</td>\n",
       "      <td>0.002506</td>\n",
       "      <td>0.894737</td>\n",
       "      <td>78.460673</td>\n",
       "    </tr>\n",
       "    <tr>\n",
       "      <th>99</th>\n",
       "      <td>0.1</td>\n",
       "      <td>30</td>\n",
       "      <td>0.5</td>\n",
       "      <td>0.1</td>\n",
       "      <td>1</td>\n",
       "      <td>10.0</td>\n",
       "      <td>3.0</td>\n",
       "      <td>0.100467</td>\n",
       "      <td>0.002336</td>\n",
       "      <td>0.897196</td>\n",
       "      <td>78.706615</td>\n",
       "    </tr>\n",
       "    <tr>\n",
       "      <th>148</th>\n",
       "      <td>0.1</td>\n",
       "      <td>30</td>\n",
       "      <td>0.5</td>\n",
       "      <td>0.1</td>\n",
       "      <td>1</td>\n",
       "      <td>10.0</td>\n",
       "      <td>3.0</td>\n",
       "      <td>0.104651</td>\n",
       "      <td>0.004651</td>\n",
       "      <td>0.890698</td>\n",
       "      <td>78.056757</td>\n",
       "    </tr>\n",
       "    <tr>\n",
       "      <th>149</th>\n",
       "      <td>0.1</td>\n",
       "      <td>30</td>\n",
       "      <td>0.5</td>\n",
       "      <td>0.1</td>\n",
       "      <td>1</td>\n",
       "      <td>10.0</td>\n",
       "      <td>3.0</td>\n",
       "      <td>0.320186</td>\n",
       "      <td>0.004640</td>\n",
       "      <td>0.675174</td>\n",
       "      <td>56.504391</td>\n",
       "    </tr>\n",
       "    <tr>\n",
       "      <th>150</th>\n",
       "      <td>0.1</td>\n",
       "      <td>30</td>\n",
       "      <td>0.5</td>\n",
       "      <td>0.1</td>\n",
       "      <td>1</td>\n",
       "      <td>10.0</td>\n",
       "      <td>3.0</td>\n",
       "      <td>0.057737</td>\n",
       "      <td>0.002309</td>\n",
       "      <td>0.939954</td>\n",
       "      <td>82.982370</td>\n",
       "    </tr>\n",
       "    <tr>\n",
       "      <th>151</th>\n",
       "      <td>0.1</td>\n",
       "      <td>30</td>\n",
       "      <td>0.5</td>\n",
       "      <td>0.1</td>\n",
       "      <td>1</td>\n",
       "      <td>10.0</td>\n",
       "      <td>3.0</td>\n",
       "      <td>0.139588</td>\n",
       "      <td>0.002288</td>\n",
       "      <td>0.858124</td>\n",
       "      <td>74.799346</td>\n",
       "    </tr>\n",
       "    <tr>\n",
       "      <th>152</th>\n",
       "      <td>0.1</td>\n",
       "      <td>30</td>\n",
       "      <td>0.5</td>\n",
       "      <td>0.1</td>\n",
       "      <td>1</td>\n",
       "      <td>10.0</td>\n",
       "      <td>3.0</td>\n",
       "      <td>0.075515</td>\n",
       "      <td>0.004577</td>\n",
       "      <td>0.919908</td>\n",
       "      <td>80.977836</td>\n",
       "    </tr>\n",
       "  </tbody>\n",
       "</table>\n",
       "</div>"
      ],
      "text/plain": [
       "     delta_time  proportional_gain  integral_gain  derivative_gain  \\\n",
       "74          0.1                 30            0.5              0.1   \n",
       "75          0.1                 30            0.5              0.1   \n",
       "76          0.1                 30            0.5              0.1   \n",
       "77          0.1                 30            0.5              0.1   \n",
       "78          0.1                 30            0.5              0.1   \n",
       "79          0.1                 30            0.5              0.1   \n",
       "80          0.1                 30            0.5              0.1   \n",
       "81          0.1                 30            0.5              0.1   \n",
       "82          0.1                 30            0.5              0.1   \n",
       "83          0.1                 30            0.5              0.1   \n",
       "84          0.1                 30            0.5              0.1   \n",
       "87          0.1                 30            0.5              0.1   \n",
       "90          0.1                 30            0.5              0.1   \n",
       "91          0.1                 30            0.5              0.1   \n",
       "92          0.1                 30            0.5              0.1   \n",
       "93          0.1                 30            0.5              0.1   \n",
       "94          0.1                 30            0.5              0.1   \n",
       "95          0.1                 30            0.5              0.1   \n",
       "96          0.1                 30            0.5              0.1   \n",
       "97          0.1                 30            0.5              0.1   \n",
       "98          0.1                 30            0.5              0.1   \n",
       "99          0.1                 30            0.5              0.1   \n",
       "148         0.1                 30            0.5              0.1   \n",
       "149         0.1                 30            0.5              0.1   \n",
       "150         0.1                 30            0.5              0.1   \n",
       "151         0.1                 30            0.5              0.1   \n",
       "152         0.1                 30            0.5              0.1   \n",
       "\n",
       "     logistic_function_mid  logistic_function_growth_rate  \\\n",
       "74                       1                           10.0   \n",
       "75                       1                           10.0   \n",
       "76                       1                           10.0   \n",
       "77                       1                           10.0   \n",
       "78                       1                           10.0   \n",
       "79                       1                           10.0   \n",
       "80                       1                           10.0   \n",
       "81                       1                           10.0   \n",
       "82                       1                           10.0   \n",
       "83                       1                           10.0   \n",
       "84                       1                           10.0   \n",
       "87                       1                           10.0   \n",
       "90                       1                           10.0   \n",
       "91                       1                           10.0   \n",
       "92                       1                           10.0   \n",
       "93                       1                           10.0   \n",
       "94                       1                           10.0   \n",
       "95                       1                           10.0   \n",
       "96                       1                           10.0   \n",
       "97                       1                           10.0   \n",
       "98                       1                           10.0   \n",
       "99                       1                           10.0   \n",
       "148                      1                           10.0   \n",
       "149                      1                           10.0   \n",
       "150                      1                           10.0   \n",
       "151                      1                           10.0   \n",
       "152                      1                           10.0   \n",
       "\n",
       "     lin_val_err_deriv_coeff  follower_too_far_percent  \\\n",
       "74                       2.0                  0.479358   \n",
       "75                       2.0                  0.163972   \n",
       "76                       2.0                  0.328918   \n",
       "77                       2.0                  0.427617   \n",
       "78                       2.0                  0.234783   \n",
       "79                       2.0                  0.109890   \n",
       "80                       2.0                  0.056433   \n",
       "81                       2.0                  0.405345   \n",
       "82                       2.0                  0.309577   \n",
       "83                       2.0                  0.164045   \n",
       "84                       2.0                  0.354402   \n",
       "87                       2.0                  0.295045   \n",
       "90                       2.0                  0.371622   \n",
       "91                       2.0                  0.320713   \n",
       "92                       2.0                  0.335570   \n",
       "93                       3.0                  0.346756   \n",
       "94                       3.0                  0.146727   \n",
       "95                       3.0                  0.264631   \n",
       "96                       3.0                  0.134703   \n",
       "97                       3.0                  0.346241   \n",
       "98                       3.0                  0.102757   \n",
       "99                       3.0                  0.100467   \n",
       "148                      3.0                  0.104651   \n",
       "149                      3.0                  0.320186   \n",
       "150                      3.0                  0.057737   \n",
       "151                      3.0                  0.139588   \n",
       "152                      3.0                  0.075515   \n",
       "\n",
       "     follower_too_close_percent  follower_goal_dist_percent  \\\n",
       "74                     0.004587                    0.516055   \n",
       "75                     0.004619                    0.831409   \n",
       "76                     0.070640                    0.600442   \n",
       "77                     0.004454                    0.567929   \n",
       "78                     0.017391                    0.747826   \n",
       "79                     0.004396                    0.885714   \n",
       "80                     0.004515                    0.939052   \n",
       "81                     0.015590                    0.579065   \n",
       "82                     0.015590                    0.674833   \n",
       "83                     0.004494                    0.831461   \n",
       "84                     0.002257                    0.643341   \n",
       "87                     0.002252                    0.702703   \n",
       "90                     0.004505                    0.623874   \n",
       "91                     0.002227                    0.677060   \n",
       "92                     0.002237                    0.662192   \n",
       "93                     0.060403                    0.592841   \n",
       "94                     0.004515                    0.848758   \n",
       "95                     0.005089                    0.730280   \n",
       "96                     0.002283                    0.863014   \n",
       "97                     0.047836                    0.605923   \n",
       "98                     0.002506                    0.894737   \n",
       "99                     0.002336                    0.897196   \n",
       "148                    0.004651                    0.890698   \n",
       "149                    0.004640                    0.675174   \n",
       "150                    0.002309                    0.939954   \n",
       "151                    0.002288                    0.858124   \n",
       "152                    0.004577                    0.919908   \n",
       "\n",
       "     corrected_goal_dist_percent  \n",
       "74                     40.592494  \n",
       "75                     72.127867  \n",
       "76                     49.031139  \n",
       "77                     45.779862  \n",
       "78                     63.769598  \n",
       "79                     77.558418  \n",
       "80                     82.892181  \n",
       "81                     46.893448  \n",
       "82                     56.470285  \n",
       "83                     72.133057  \n",
       "84                     53.321075  \n",
       "87                     59.257260  \n",
       "90                     51.374377  \n",
       "91                     56.693003  \n",
       "92                     55.206229  \n",
       "93                     48.271106  \n",
       "94                     73.862836  \n",
       "95                     62.014979  \n",
       "96                     75.288359  \n",
       "97                     49.579244  \n",
       "98                     78.460673  \n",
       "99                     78.706615  \n",
       "148                    78.056757  \n",
       "149                    56.504391  \n",
       "150                    82.982370  \n",
       "151                    74.799346  \n",
       "152                    80.977836  "
      ]
     },
     "execution_count": 127,
     "metadata": {},
     "output_type": "execute_result"
    }
   ],
   "source": [
    "optimalSet"
   ]
  },
  {
   "cell_type": "code",
   "execution_count": 128,
   "metadata": {},
   "outputs": [],
   "source": [
    "optimalSet = optimalSet[optimalSet['derivative_gain'] == 0.1]"
   ]
  },
  {
   "cell_type": "code",
   "execution_count": 129,
   "metadata": {},
   "outputs": [],
   "source": [
    "optimalSet = optimalSet[optimalSet['logistic_function_growth_rate'] == 10]"
   ]
  },
  {
   "cell_type": "code",
   "execution_count": 130,
   "metadata": {},
   "outputs": [],
   "source": [
    "optimalSet = optimalSet[optimalSet['lin_val_err_deriv_coeff'] == 3]"
   ]
  },
  {
   "cell_type": "code",
   "execution_count": 131,
   "metadata": {},
   "outputs": [
    {
     "data": {
      "text/html": [
       "<div>\n",
       "<style scoped>\n",
       "    .dataframe tbody tr th:only-of-type {\n",
       "        vertical-align: middle;\n",
       "    }\n",
       "\n",
       "    .dataframe tbody tr th {\n",
       "        vertical-align: top;\n",
       "    }\n",
       "\n",
       "    .dataframe thead th {\n",
       "        text-align: right;\n",
       "    }\n",
       "</style>\n",
       "<table border=\"1\" class=\"dataframe\">\n",
       "  <thead>\n",
       "    <tr style=\"text-align: right;\">\n",
       "      <th></th>\n",
       "      <th>delta_time</th>\n",
       "      <th>proportional_gain</th>\n",
       "      <th>integral_gain</th>\n",
       "      <th>derivative_gain</th>\n",
       "      <th>logistic_function_mid</th>\n",
       "      <th>logistic_function_growth_rate</th>\n",
       "      <th>lin_val_err_deriv_coeff</th>\n",
       "      <th>follower_too_far_percent</th>\n",
       "      <th>follower_too_close_percent</th>\n",
       "      <th>follower_goal_dist_percent</th>\n",
       "      <th>corrected_goal_dist_percent</th>\n",
       "    </tr>\n",
       "  </thead>\n",
       "  <tbody>\n",
       "    <tr>\n",
       "      <th>93</th>\n",
       "      <td>0.1</td>\n",
       "      <td>30</td>\n",
       "      <td>0.5</td>\n",
       "      <td>0.1</td>\n",
       "      <td>1</td>\n",
       "      <td>10.0</td>\n",
       "      <td>3.0</td>\n",
       "      <td>0.346756</td>\n",
       "      <td>0.060403</td>\n",
       "      <td>0.592841</td>\n",
       "      <td>48.271106</td>\n",
       "    </tr>\n",
       "    <tr>\n",
       "      <th>94</th>\n",
       "      <td>0.1</td>\n",
       "      <td>30</td>\n",
       "      <td>0.5</td>\n",
       "      <td>0.1</td>\n",
       "      <td>1</td>\n",
       "      <td>10.0</td>\n",
       "      <td>3.0</td>\n",
       "      <td>0.146727</td>\n",
       "      <td>0.004515</td>\n",
       "      <td>0.848758</td>\n",
       "      <td>73.862836</td>\n",
       "    </tr>\n",
       "    <tr>\n",
       "      <th>95</th>\n",
       "      <td>0.1</td>\n",
       "      <td>30</td>\n",
       "      <td>0.5</td>\n",
       "      <td>0.1</td>\n",
       "      <td>1</td>\n",
       "      <td>10.0</td>\n",
       "      <td>3.0</td>\n",
       "      <td>0.264631</td>\n",
       "      <td>0.005089</td>\n",
       "      <td>0.730280</td>\n",
       "      <td>62.014979</td>\n",
       "    </tr>\n",
       "    <tr>\n",
       "      <th>96</th>\n",
       "      <td>0.1</td>\n",
       "      <td>30</td>\n",
       "      <td>0.5</td>\n",
       "      <td>0.1</td>\n",
       "      <td>1</td>\n",
       "      <td>10.0</td>\n",
       "      <td>3.0</td>\n",
       "      <td>0.134703</td>\n",
       "      <td>0.002283</td>\n",
       "      <td>0.863014</td>\n",
       "      <td>75.288359</td>\n",
       "    </tr>\n",
       "    <tr>\n",
       "      <th>97</th>\n",
       "      <td>0.1</td>\n",
       "      <td>30</td>\n",
       "      <td>0.5</td>\n",
       "      <td>0.1</td>\n",
       "      <td>1</td>\n",
       "      <td>10.0</td>\n",
       "      <td>3.0</td>\n",
       "      <td>0.346241</td>\n",
       "      <td>0.047836</td>\n",
       "      <td>0.605923</td>\n",
       "      <td>49.579244</td>\n",
       "    </tr>\n",
       "    <tr>\n",
       "      <th>98</th>\n",
       "      <td>0.1</td>\n",
       "      <td>30</td>\n",
       "      <td>0.5</td>\n",
       "      <td>0.1</td>\n",
       "      <td>1</td>\n",
       "      <td>10.0</td>\n",
       "      <td>3.0</td>\n",
       "      <td>0.102757</td>\n",
       "      <td>0.002506</td>\n",
       "      <td>0.894737</td>\n",
       "      <td>78.460673</td>\n",
       "    </tr>\n",
       "    <tr>\n",
       "      <th>99</th>\n",
       "      <td>0.1</td>\n",
       "      <td>30</td>\n",
       "      <td>0.5</td>\n",
       "      <td>0.1</td>\n",
       "      <td>1</td>\n",
       "      <td>10.0</td>\n",
       "      <td>3.0</td>\n",
       "      <td>0.100467</td>\n",
       "      <td>0.002336</td>\n",
       "      <td>0.897196</td>\n",
       "      <td>78.706615</td>\n",
       "    </tr>\n",
       "    <tr>\n",
       "      <th>148</th>\n",
       "      <td>0.1</td>\n",
       "      <td>30</td>\n",
       "      <td>0.5</td>\n",
       "      <td>0.1</td>\n",
       "      <td>1</td>\n",
       "      <td>10.0</td>\n",
       "      <td>3.0</td>\n",
       "      <td>0.104651</td>\n",
       "      <td>0.004651</td>\n",
       "      <td>0.890698</td>\n",
       "      <td>78.056757</td>\n",
       "    </tr>\n",
       "    <tr>\n",
       "      <th>149</th>\n",
       "      <td>0.1</td>\n",
       "      <td>30</td>\n",
       "      <td>0.5</td>\n",
       "      <td>0.1</td>\n",
       "      <td>1</td>\n",
       "      <td>10.0</td>\n",
       "      <td>3.0</td>\n",
       "      <td>0.320186</td>\n",
       "      <td>0.004640</td>\n",
       "      <td>0.675174</td>\n",
       "      <td>56.504391</td>\n",
       "    </tr>\n",
       "    <tr>\n",
       "      <th>150</th>\n",
       "      <td>0.1</td>\n",
       "      <td>30</td>\n",
       "      <td>0.5</td>\n",
       "      <td>0.1</td>\n",
       "      <td>1</td>\n",
       "      <td>10.0</td>\n",
       "      <td>3.0</td>\n",
       "      <td>0.057737</td>\n",
       "      <td>0.002309</td>\n",
       "      <td>0.939954</td>\n",
       "      <td>82.982370</td>\n",
       "    </tr>\n",
       "    <tr>\n",
       "      <th>151</th>\n",
       "      <td>0.1</td>\n",
       "      <td>30</td>\n",
       "      <td>0.5</td>\n",
       "      <td>0.1</td>\n",
       "      <td>1</td>\n",
       "      <td>10.0</td>\n",
       "      <td>3.0</td>\n",
       "      <td>0.139588</td>\n",
       "      <td>0.002288</td>\n",
       "      <td>0.858124</td>\n",
       "      <td>74.799346</td>\n",
       "    </tr>\n",
       "    <tr>\n",
       "      <th>152</th>\n",
       "      <td>0.1</td>\n",
       "      <td>30</td>\n",
       "      <td>0.5</td>\n",
       "      <td>0.1</td>\n",
       "      <td>1</td>\n",
       "      <td>10.0</td>\n",
       "      <td>3.0</td>\n",
       "      <td>0.075515</td>\n",
       "      <td>0.004577</td>\n",
       "      <td>0.919908</td>\n",
       "      <td>80.977836</td>\n",
       "    </tr>\n",
       "  </tbody>\n",
       "</table>\n",
       "</div>"
      ],
      "text/plain": [
       "     delta_time  proportional_gain  integral_gain  derivative_gain  \\\n",
       "93          0.1                 30            0.5              0.1   \n",
       "94          0.1                 30            0.5              0.1   \n",
       "95          0.1                 30            0.5              0.1   \n",
       "96          0.1                 30            0.5              0.1   \n",
       "97          0.1                 30            0.5              0.1   \n",
       "98          0.1                 30            0.5              0.1   \n",
       "99          0.1                 30            0.5              0.1   \n",
       "148         0.1                 30            0.5              0.1   \n",
       "149         0.1                 30            0.5              0.1   \n",
       "150         0.1                 30            0.5              0.1   \n",
       "151         0.1                 30            0.5              0.1   \n",
       "152         0.1                 30            0.5              0.1   \n",
       "\n",
       "     logistic_function_mid  logistic_function_growth_rate  \\\n",
       "93                       1                           10.0   \n",
       "94                       1                           10.0   \n",
       "95                       1                           10.0   \n",
       "96                       1                           10.0   \n",
       "97                       1                           10.0   \n",
       "98                       1                           10.0   \n",
       "99                       1                           10.0   \n",
       "148                      1                           10.0   \n",
       "149                      1                           10.0   \n",
       "150                      1                           10.0   \n",
       "151                      1                           10.0   \n",
       "152                      1                           10.0   \n",
       "\n",
       "     lin_val_err_deriv_coeff  follower_too_far_percent  \\\n",
       "93                       3.0                  0.346756   \n",
       "94                       3.0                  0.146727   \n",
       "95                       3.0                  0.264631   \n",
       "96                       3.0                  0.134703   \n",
       "97                       3.0                  0.346241   \n",
       "98                       3.0                  0.102757   \n",
       "99                       3.0                  0.100467   \n",
       "148                      3.0                  0.104651   \n",
       "149                      3.0                  0.320186   \n",
       "150                      3.0                  0.057737   \n",
       "151                      3.0                  0.139588   \n",
       "152                      3.0                  0.075515   \n",
       "\n",
       "     follower_too_close_percent  follower_goal_dist_percent  \\\n",
       "93                     0.060403                    0.592841   \n",
       "94                     0.004515                    0.848758   \n",
       "95                     0.005089                    0.730280   \n",
       "96                     0.002283                    0.863014   \n",
       "97                     0.047836                    0.605923   \n",
       "98                     0.002506                    0.894737   \n",
       "99                     0.002336                    0.897196   \n",
       "148                    0.004651                    0.890698   \n",
       "149                    0.004640                    0.675174   \n",
       "150                    0.002309                    0.939954   \n",
       "151                    0.002288                    0.858124   \n",
       "152                    0.004577                    0.919908   \n",
       "\n",
       "     corrected_goal_dist_percent  \n",
       "93                     48.271106  \n",
       "94                     73.862836  \n",
       "95                     62.014979  \n",
       "96                     75.288359  \n",
       "97                     49.579244  \n",
       "98                     78.460673  \n",
       "99                     78.706615  \n",
       "148                    78.056757  \n",
       "149                    56.504391  \n",
       "150                    82.982370  \n",
       "151                    74.799346  \n",
       "152                    80.977836  "
      ]
     },
     "execution_count": 131,
     "metadata": {},
     "output_type": "execute_result"
    }
   ],
   "source": [
    "optimalSet\n"
   ]
  },
  {
   "cell_type": "code",
   "execution_count": 132,
   "metadata": {},
   "outputs": [
    {
     "data": {
      "text/plain": [
       "count    12.000000\n",
       "mean     69.958709\n",
       "std      12.440038\n",
       "min      48.271106\n",
       "25%      60.637332\n",
       "50%      75.043853\n",
       "75%      78.522159\n",
       "max      82.982370\n",
       "Name: corrected_goal_dist_percent, dtype: float64"
      ]
     },
     "execution_count": 132,
     "metadata": {},
     "output_type": "execute_result"
    }
   ],
   "source": [
    "optimalSet['corrected_goal_dist_percent'].describe()"
   ]
  },
  {
   "cell_type": "code",
   "execution_count": 141,
   "metadata": {},
   "outputs": [
    {
     "data": {
      "text/plain": [
       "count    12.000000\n",
       "mean     17.832995\n",
       "std      10.906698\n",
       "min       5.773672\n",
       "25%      10.218449\n",
       "50%      13.714565\n",
       "75%      27.851969\n",
       "max      34.675615\n",
       "Name: follower_too_far_percent, dtype: float64"
      ]
     },
     "execution_count": 141,
     "metadata": {},
     "output_type": "execute_result"
    }
   ],
   "source": [
    "optimalSet['follower_too_far_percent'] = optimalSet['follower_too_far_percent'] * 100\n",
    "optimalSet['follower_too_far_percent'].describe()"
   ]
  },
  {
   "cell_type": "code",
   "execution_count": 142,
   "metadata": {},
   "outputs": [
    {
     "data": {
      "text/plain": [
       "count    12.000000\n",
       "mean      1.195285\n",
       "std       1.990942\n",
       "min       0.228311\n",
       "25%       0.232970\n",
       "50%       0.454567\n",
       "75%       0.476064\n",
       "max       6.040268\n",
       "Name: follower_too_close_percent, dtype: float64"
      ]
     },
     "execution_count": 142,
     "metadata": {},
     "output_type": "execute_result"
    }
   ],
   "source": [
    "optimalSet['follower_too_close_percent'] = optimalSet['follower_too_close_percent'] * 100\n",
    "optimalSet['follower_too_close_percent'].describe()"
   ]
  },
  {
   "cell_type": "code",
   "execution_count": null,
   "metadata": {},
   "outputs": [],
   "source": []
  }
 ],
 "metadata": {
  "kernelspec": {
   "display_name": "Python 3",
   "language": "python",
   "name": "python3"
  },
  "language_info": {
   "codemirror_mode": {
    "name": "ipython",
    "version": 3
   },
   "file_extension": ".py",
   "mimetype": "text/x-python",
   "name": "python",
   "nbconvert_exporter": "python",
   "pygments_lexer": "ipython3",
   "version": "3.7.1"
  }
 },
 "nbformat": 4,
 "nbformat_minor": 2
}
